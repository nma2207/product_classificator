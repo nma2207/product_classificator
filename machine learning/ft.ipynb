{
 "cells": [
  {
   "cell_type": "code",
   "execution_count": 11,
   "source": [
    "import pandas as pd\n",
    "from nltk.tokenize import word_tokenize\n",
    "import nltk\n",
    "nltk.download('stopwords')\n",
    "from nltk.corpus import stopwords\n",
    "import pymorphy2\n",
    "nltk.download('punkt')\n",
    "from gensim.models import Word2Vec\n",
    "from gensim.models import KeyedVectors\n",
    "import numpy as np\n",
    "from sklearn.model_selection import train_test_split"
   ],
   "outputs": [
    {
     "output_type": "stream",
     "name": "stderr",
     "text": [
      "[nltk_data] Downloading package stopwords to\n",
      "[nltk_data]     /home/operator3/nltk_data...\n",
      "[nltk_data]   Package stopwords is already up-to-date!\n",
      "[nltk_data] Downloading package punkt to /home/operator3/nltk_data...\n",
      "[nltk_data]   Package punkt is already up-to-date!\n"
     ]
    }
   ],
   "metadata": {}
  },
  {
   "cell_type": "code",
   "execution_count": 2,
   "source": [
    "df = pd.read_excel('profsa/Реестр 327 тыс. деклараций ЕП РФ без 140000-200000.xlsx', sheet_name='все ДС с кодами')"
   ],
   "outputs": [],
   "metadata": {}
  },
  {
   "cell_type": "code",
   "execution_count": 4,
   "source": [
    "all_sents = []\n",
    "for index, row in df.iterrows():\n",
    "    all_sents.append(row['Общее наименование продукции'])"
   ],
   "outputs": [],
   "metadata": {}
  },
  {
   "cell_type": "code",
   "execution_count": 6,
   "source": [
    "def make_sent_good(sent):\n",
    "    \n",
    "    #print(sent)\n",
    "    tokens = word_tokenize(sent, language=\"russian\")\n",
    "    #print(tokens)\n",
    "    filtered_tokens = []\n",
    "    stop_words = stopwords.words(\"russian\")\n",
    "    for token in tokens:\n",
    "        if token not in stop_words and token.isalpha():\n",
    "#            parsed = morph.parse(token)\n",
    "#            filtered_tokens.append(parsed[0].normal_form)\n",
    "            filtered_tokens.append(token.lower())\n",
    "    return filtered_tokens"
   ],
   "outputs": [],
   "metadata": {}
  },
  {
   "cell_type": "code",
   "execution_count": 7,
   "source": [
    "dataset = [make_sent_good(sent) for sent in all_sents ]"
   ],
   "outputs": [],
   "metadata": {}
  },
  {
   "cell_type": "code",
   "execution_count": 10,
   "source": [
    "k=0\n",
    "classes = []\n",
    "for cat in df['Раздел ЕП РФ (Код из ФГИС ФСА для подкатегории продукции)'].tolist():\n",
    "    if ';' in cat:\n",
    "        c =cat.split(';')[0]\n",
    "        classes.append(c)\n",
    "    else:\n",
    "        classes.append(cat)"
   ],
   "outputs": [],
   "metadata": {}
  },
  {
   "cell_type": "code",
   "execution_count": 12,
   "source": [
    "x_train, x_test, y_train, y_test = train_test_split(dataset, classes, test_size=0.1, random_state=42)"
   ],
   "outputs": [],
   "metadata": {}
  },
  {
   "cell_type": "code",
   "execution_count": 13,
   "source": [
    "with open(\"train.txt\", \"w\") as f:\n",
    "    for x, y in zip(x_train, y_train):\n",
    "        f.writelines(\"__label__\"+y+\" \"+\" \".join(x)+'\\n')\n",
    "with open(\"test.txt\", \"w\") as f:\n",
    "    for x, y in zip(x_test, y_test):\n",
    "        f.writelines(\"__label__\"+y+\" \"+\" \".join(x)+\"\\n\")"
   ],
   "outputs": [],
   "metadata": {}
  },
  {
   "cell_type": "code",
   "execution_count": 8,
   "source": [
    "import fasttext"
   ],
   "outputs": [],
   "metadata": {}
  },
  {
   "cell_type": "code",
   "execution_count": 31,
   "source": [
    "model = fasttext.train_supervised(input=\"train.txt\", lr=0.3, epoch=100, wordNgrams=2, bucket=200000, dim=100, loss='ova')"
   ],
   "outputs": [],
   "metadata": {}
  },
  {
   "cell_type": "code",
   "execution_count": 32,
   "source": [
    "k=0\n",
    "for x, y in zip(x_test, y_test):\n",
    "    pred = model.predict(' '.join(x))\n",
    "    label = pred[0][0][9:]\n",
    "    if label == y:\n",
    "        k+=1\n",
    "print(k / len(x_test))"
   ],
   "outputs": [
    {
     "output_type": "stream",
     "name": "stdout",
     "text": [
      "0.9078038029063469\n"
     ]
    }
   ],
   "metadata": {}
  },
  {
   "cell_type": "code",
   "execution_count": 33,
   "source": [
    "model.save_model(\"fast_text.pt\")"
   ],
   "outputs": [],
   "metadata": {}
  },
  {
   "cell_type": "code",
   "execution_count": null,
   "source": [],
   "outputs": [],
   "metadata": {}
  }
 ],
 "metadata": {
  "orig_nbformat": 4,
  "language_info": {
   "name": "python",
   "version": "3.8.3",
   "mimetype": "text/x-python",
   "codemirror_mode": {
    "name": "ipython",
    "version": 3
   },
   "pygments_lexer": "ipython3",
   "nbconvert_exporter": "python",
   "file_extension": ".py"
  },
  "kernelspec": {
   "name": "python3",
   "display_name": "Python 3.8.3 64-bit ('base': conda)"
  },
  "interpreter": {
   "hash": "c493978c77eeaf4df27bbb4b549f9d9ac2c1b872ee758e4e7fcaaa7a681616b7"
  }
 },
 "nbformat": 4,
 "nbformat_minor": 2
}